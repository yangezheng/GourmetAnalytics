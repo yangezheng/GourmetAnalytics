{
 "cells": [
  {
   "cell_type": "markdown",
   "metadata": {},
   "source": [
    "# Import"
   ]
  },
  {
   "cell_type": "code",
   "execution_count": null,
   "metadata": {},
   "outputs": [],
   "source": [
    "import pandas as pd\n",
    "import numpy as np\n",
    "\n",
    "import seaborn as sns\n",
    "\n",
    "# Note: The following do not work with Python 3.12\n",
    "import shap\n",
    "from ydata_profiling import ProfileReport\n",
    "import sweetviz as sv"
   ]
  },
  {
   "cell_type": "code",
   "execution_count": null,
   "metadata": {},
   "outputs": [],
   "source": [
    "file1 = '../Data/diet.csv'\n",
    "file2 = '../Data/recipes.csv'\n",
    "file3 = '../Data/requests.csv'\n",
    "file4 = '../Data/reviews.csv'\n",
    "\n",
    "diet = pd.read_csv(file1)\n",
    "recipes = pd.read_csv(file2)\n",
    "requests = pd.read_csv(file3)\n",
    "reviews = pd.read_csv(file4)"
   ]
  },
  {
   "cell_type": "markdown",
   "metadata": {},
   "source": [
    "# Reviews\n",
    "Reviews has very important information about the User's opnion about a center Recipe."
   ]
  },
  {
   "cell_type": "code",
   "execution_count": null,
   "metadata": {},
   "outputs": [],
   "source": [
    "reviews.info()"
   ]
  },
  {
   "cell_type": "code",
   "execution_count": null,
   "metadata": {},
   "outputs": [],
   "source": [
    "reviews['Rating'].unique()\n",
    "reviews['Like'].values"
   ]
  },
  {
   "cell_type": "markdown",
   "metadata": {},
   "source": [
    "__Rating__: is either 2.0 or nan, which isn't very informative, we can get rid of it.\n",
    "\n",
    "__TestSetId__: is something we can't use, so we can get rid of it.\n",
    "\n",
    "__Like__: has nan values, these rows won't provide any information for us, so we can delete these rows. "
   ]
  },
  {
   "cell_type": "code",
   "execution_count": null,
   "metadata": {},
   "outputs": [],
   "source": [
    "reviews = reviews.drop(columns=['Rating','TestSetId' ],errors='ignore')\n",
    "reviews = reviews.dropna()\n",
    "reviews['Like'] = reviews['Like'].astype('category')\n",
    "reviews.info()"
   ]
  },
  {
   "cell_type": "markdown",
   "metadata": {},
   "source": [
    "# Diet"
   ]
  },
  {
   "cell_type": "code",
   "execution_count": null,
   "metadata": {},
   "outputs": [],
   "source": [
    "diet.info()"
   ]
  },
  {
   "cell_type": "code",
   "execution_count": null,
   "metadata": {},
   "outputs": [],
   "source": [
    "diet['Diet'].unique()"
   ]
  },
  {
   "cell_type": "markdown",
   "metadata": {},
   "source": [
    "__Age__: is very likely to be non-informative to our tastk\n",
    "\n",
    "__Diet__: is perhaps useful, we now make it as categorical"
   ]
  },
  {
   "cell_type": "code",
   "execution_count": null,
   "metadata": {},
   "outputs": [],
   "source": [
    "diet = diet.drop(columns=['Age' ],errors='ignore')\n",
    "diet = diet.dropna()\n",
    "diet['Diet'] = diet['Diet'].astype('category')"
   ]
  },
  {
   "cell_type": "markdown",
   "metadata": {},
   "source": [
    "# Recipes"
   ]
  },
  {
   "cell_type": "code",
   "execution_count": null,
   "metadata": {},
   "outputs": [],
   "source": [
    "recipes.head()"
   ]
  },
  {
   "cell_type": "code",
   "execution_count": null,
   "metadata": {},
   "outputs": [],
   "source": [
    "recipes.info()"
   ]
  },
  {
   "cell_type": "markdown",
   "metadata": {},
   "source": [
    "### First Glance\n",
    "\n",
    "__Name__: very difficult to deal with, we can only use it with assign word with token about if it's vegan. But it's too much work, let's drop it for now.\n",
    "\n",
    "__RecipeCategory__: array(['Other', 'Beverages', 'Bread', 'One dish meal', 'Breakfast', 'Lunch', 'Soup'], dtype=object) not much use \n",
    "\n",
    "__RecipeIngredientQuantities__: no use\n",
    "\n",
    "__RecipeIngredientParts__: no use\n",
    "\n",
    "__RecipeYield__: no use\n",
    "\n",
    "__RecipeServings__: no use"
   ]
  },
  {
   "cell_type": "code",
   "execution_count": null,
   "metadata": {},
   "outputs": [],
   "source": [
    "recipes = recipes.drop(columns=['Name','RecipeServings','RecipeCategory','RecipeIngredientQuantities','RecipeIngredientParts','RecipeYield'],errors='ignore')"
   ]
  },
  {
   "cell_type": "markdown",
   "metadata": {},
   "source": [
    "### Second Glance\n",
    "\n",
    "__CookTime__ && __PrepTime__: they should added into one number for total time, that's the number request want\n",
    "\n",
    "__ProteinContent__: IMPORTANT * in requests\n",
    "\n",
    "__FatContent__: IMPORTANT * in requests\n",
    "\n",
    "__SugarContent__: IMPORTANT * in requests\n",
    "\n",
    "__FiberContent__: IMPORTANT * in requests\n",
    "\n",
    "__CarbohydrateContent__: not used in requests, high covariance with SugarContent FiberContent Calories, drop it for now\n",
    "\n",
    "__SaturatedFatContent__: not used in requests, but high covariance with FatContent, drop it for now\n",
    "\n",
    "__SodiumContent__: not used in requests, also have low covariances with other nuitrition, drop it\n",
    "\n",
    "__CholesterolContent__: not used in requests, very high covariance many other Content, drop it for now"
   ]
  },
  {
   "cell_type": "code",
   "execution_count": null,
   "metadata": {},
   "outputs": [],
   "source": [
    "recipes['Time'] = recipes['CookTime'] + recipes['PrepTime']\n",
    "recipes = recipes.drop(columns=['CookTime','PrepTime'],errors='ignore')\n",
    "\n",
    "recipes = recipes.drop(columns=['CarbohydrateContent','SaturatedFatContent','SodiumContent', 'CholesterolContent'],errors='ignore')"
   ]
  },
  {
   "cell_type": "code",
   "execution_count": null,
   "metadata": {},
   "outputs": [],
   "source": [
    "# We can also leverage the dataprep package to get a nice summary report\n",
    "\n",
    "report = sv.analyze(recipes)\n",
    "report.show_html(filepath='recipes1.html')\n",
    "\n",
    "# We can also leverage the yadata_profiling package to get a nice summary report\n",
    "profile = ProfileReport(recipes, title=\"Recipes Review\")\n",
    "profile.to_file(\"recipes2.html\")"
   ]
  },
  {
   "cell_type": "markdown",
   "metadata": {},
   "source": [
    "# Requests"
   ]
  },
  {
   "cell_type": "code",
   "execution_count": null,
   "metadata": {},
   "outputs": [],
   "source": [
    "requests.info()"
   ]
  },
  {
   "cell_type": "code",
   "execution_count": null,
   "metadata": {},
   "outputs": [],
   "source": [
    "requests"
   ]
  },
  {
   "cell_type": "markdown",
   "metadata": {},
   "source": [
    "All information are useful, just need to do some wrangling."
   ]
  },
  {
   "cell_type": "code",
   "execution_count": null,
   "metadata": {},
   "outputs": [],
   "source": [
    "requests['Time'] = requests['Time'].astype(int)\n",
    "\n",
    "requests['HighCalories'] = requests['HighCalories'].map({0. : False, 1. : True})\n",
    "requests['HighProtein'] = requests['HighProtein'].map({'Indifferent' : False, 'Yes' : True})\n",
    "requests['LowFat'] = requests['LowFat'].map({0 : False, 1 : True})\n",
    "requests['LowSugar'] = requests['LowSugar'].map({'0' : False, 'Indifferent' : True})\n",
    "requests['HighFiber'] = requests['HighFiber'].map({0 : False, 1 : True})\n",
    "\n",
    "requests = requests.rename(columns={'HighProtein' : 'HighProOrNotCare', 'LowSugar':'LowSugarOrDontCare'})"
   ]
  }
 ],
 "metadata": {
  "kernelspec": {
   "display_name": "baml",
   "language": "python",
   "name": "python3"
  },
  "language_info": {
   "codemirror_mode": {
    "name": "ipython",
    "version": 3
   },
   "file_extension": ".py",
   "mimetype": "text/x-python",
   "name": "python",
   "nbconvert_exporter": "python",
   "pygments_lexer": "ipython3",
   "version": "3.11.6"
  }
 },
 "nbformat": 4,
 "nbformat_minor": 2
}
